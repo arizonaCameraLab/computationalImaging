{
  "nbformat": 4,
  "nbformat_minor": 0,
  "metadata": {
    "kernelspec": {
      "display_name": "Python 3",
      "language": "python",
      "name": "python3"
    },
    "language_info": {
      "codemirror_mode": {
        "name": "ipython",
        "version": 3
      },
      "file_extension": ".py",
      "mimetype": "text/x-python",
      "name": "python",
      "nbconvert_exporter": "python",
      "pygments_lexer": "ipython3",
      "version": "3.7.11"
    },
    "colab": {
      "provenance": [],
      "include_colab_link": true
    }
  },
  "cells": [
    {
      "cell_type": "markdown",
      "metadata": {
        "id": "view-in-github",
        "colab_type": "text"
      },
      "source": [
        "<a href=\"https://colab.research.google.com/github/arizonaCameraLab/computationalImaging/blob/master/coherence/ComputationalPhotographyHomework1.ipynb\" target=\"_parent\"><img src=\"https://colab.research.google.com/assets/colab-badge.svg\" alt=\"Open In Colab\"/></a>"
      ]
    },
    {
      "cell_type": "markdown",
      "metadata": {
        "id": "7JQZbcZQOeFH"
      },
      "source": [
        "# Computational Photography\n",
        "### David J. Brady\n",
        "### University of Arizona\n",
        "\n",
        "### Homework 1\n",
        "### Srping 2024\n"
      ]
    },
    {
      "cell_type": "markdown",
      "metadata": {
        "id": "LeZV4GMViddg"
      },
      "source": [
        "\n",
        "\n",
        "\n",
        "## Homework 1\n",
        "\n",
        "Homework 1 consists of 4 problems exploring\n",
        "1. Coherence functions and spectroscopy\n",
        "2. Mutual coherence of incoherent sources\n",
        "3. Rotational shear interometry and\n",
        "4. Spatial resolution"
      ]
    },
    {
      "cell_type": "markdown",
      "metadata": {
        "id": "mprGgSlwQwYr"
      },
      "source": [
        "## Libraries"
      ]
    },
    {
      "cell_type": "code",
      "metadata": {
        "id": "0vm9S61cOWn2"
      },
      "source": [
        "%matplotlib inline\n",
        "import numpy as np\n",
        "import matplotlib.pyplot as plt\n",
        "from scipy.signal import convolve2d, convolve\n",
        "from skimage import color, data, restoration, exposure\n",
        "from skimage import io\n",
        "from google.colab import files\n",
        "plt.rcParams['figure.figsize'] = [20, 10]\n",
        "plt.rcParams.update({'font.size': 16})"
      ],
      "execution_count": null,
      "outputs": []
    },
    {
      "cell_type": "markdown",
      "source": [
        "## Question 1. Coherence functions and spectroscopy"
      ],
      "metadata": {
        "id": "hnID1eFNoEBh"
      }
    },
    {
      "cell_type": "markdown",
      "source": [
        "*   Section 6.2 of the text defines coherence functions of the optical field. Describe these functions in your own words. Explain why it is necessary to use these functions and discuss any assumptions related to their definitions.\n",
        "*   Consider an LED light source emitting light with a center wavelength of 600 nm. The spectrum is distributed according to a Gaussian distribution with standard variation 3 nm. Plot the spectrum of this source and the its mutual coherence function $\\Gamma (\\tau)$. Make sure to use physical units (e.g. time for $\\Gamma (\\tau)$) along the horizontal axes of your graphs. Estimate the coherence time (e.g. the value of $\\tau$ for which $|\\Gamma (\\tau )|$ falls to half its maximum) for this source.\n",
        "*  Measuring with a Michelson interferometer, what path delay $\\delta$ corresponds to this coherence time?\n",
        "* If the LED emits 1 milliwatt of optical power and you observe it at a range of 10 meters using an interferometer with a 1 cm aperture, estimate the number of photons you might measure in a 1 second exposure and the the time bandwidth product for the field over your measurement\n"
      ],
      "metadata": {
        "id": "Y2zwedEuoMDB"
      }
    },
    {
      "cell_type": "markdown",
      "source": [
        "## Question 2. Mutual coherence of incoherent sources"
      ],
      "metadata": {
        "id": "dCdu1h8YoPBK"
      }
    },
    {
      "cell_type": "markdown",
      "source": [
        "Text equation 6.22 describes the cross spectral density of a a Fresnel zone incoherent source as\n",
        "$$\n",
        "W(\\Delta x,\\Delta y, q, \\nu )={l^2\\over \\lambda^2z^2}\n",
        "e^{-i{2\\pi\\nu q\\over c z}}\n",
        "\\int\\int\n",
        " S(x,y,\\nu )e^{i{2\\pi\\nu \\over c z}(x\\Delta x+y\\Delta y )}\n",
        "dxdy\n",
        "$$\n",
        "Neglecting constants, the magnitude of the cross spectral density is\n",
        "$$\n",
        "|W(\\Delta x,\\Delta y, q, \\nu )|=\\left |\n",
        "\\int\\int\n",
        " S(x,y,\\nu )e^{i{2\\pi\\nu \\over c z}(x\\Delta x+y\\Delta y )}\n",
        "dxdy\\right |\n",
        "$$\n",
        "\n",
        "Suppose that $S(x,y,\\nu )= f(x,y) e^{-\\frac{(\\nu - \\nu_o)^2}{\\sigma^2}}$, where $\\nu_0=500$ THz and $\\sigma= 5$ THz. $f(x,y)$ is a spatial pattern showing the number 3 such that the number is approximately 3 mm high.\n",
        "\n",
        "\n",
        "*   What is the center wavelength of the spectral distribution? What is the width of the spectral in nm? What color is this?\n",
        "*   For this system, plot $\\left |W(\\Delta x,\\Delta y, q, \\nu )\\right |$ at a range of 1 meter and at a range of 10 meters, with plot axes in appropriate spatial units.\n",
        "*  Estimate the coherence cross section at a range of 1 meter and at a range of 10 meters.\n",
        "*  Discuss and explain your results.\n",
        "\n",
        "\n",
        "\n"
      ],
      "metadata": {
        "id": "4Ss56-tWoVGy"
      }
    },
    {
      "cell_type": "markdown",
      "source": [
        "## Question 3. Rotational shear interferometry"
      ],
      "metadata": {
        "id": "lwa__zvooXli"
      }
    },
    {
      "cell_type": "markdown",
      "source": [
        "\n",
        "*   Figure 6.6 in the text shows experimental rotational shear interferometer data, but physical units are missing on the plots. Try to replicate this image using a model for the spectrum with Gaussian peaks representing each of the peaks in the left spectral traces. Assume that the spectral peaks for the uper trace are at 450, 525 and 625 nm. For the lower spectrum assume 500 and 600 nm. Assume that the sources are 2 meters from the RSI. Deterimine the angular placement of the sources needed to create the RSI image and the pixel pitch (in microns) on the RSI.\n",
        "*   Create a model image of the RSI pattern for observing the source of problem 2 at a range of 20 cm.\n",
        "\n"
      ],
      "metadata": {
        "id": "hZZADICaocny"
      }
    },
    {
      "cell_type": "markdown",
      "source": [
        "## Question 4. Spatial Resolution"
      ],
      "metadata": {
        "id": "xuCqd_pvoeUy"
      }
    },
    {
      "cell_type": "markdown",
      "source": [
        "\n",
        "\n",
        "*   Estimate the transverse and longitudinal resolution of a confocal microscope with a 1 mm aperture and a 1 mm working distance.\n",
        "*   Estimate the transverse and longitudinal resolution of a camera with 1 cm apeture imaging objects at a range of 1 meter.\n",
        "*   Diffraction limited optical resolution depends only on the aperture extent, not on physical processing. Explain why.\n",
        "*   Discuss algorithmic and coding strategies for increasing resolution.\n"
      ],
      "metadata": {
        "id": "nE_VUJRg_Ab6"
      }
    },
    {
      "cell_type": "code",
      "metadata": {
        "id": "tUEsVpWPIuU9"
      },
      "source": [],
      "execution_count": null,
      "outputs": []
    }
  ]
}