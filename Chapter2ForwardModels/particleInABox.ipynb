{
  "nbformat": 4,
  "nbformat_minor": 0,
  "metadata": {
    "colab": {
      "provenance": [],
      "authorship_tag": "ABX9TyPPDAZmthptTvSu6Exlo3MP",
      "include_colab_link": true
    },
    "kernelspec": {
      "name": "python3",
      "display_name": "Python 3"
    },
    "language_info": {
      "name": "python"
    }
  },
  "cells": [
    {
      "cell_type": "markdown",
      "metadata": {
        "id": "view-in-github",
        "colab_type": "text"
      },
      "source": [
        "<a href=\"https://colab.research.google.com/github/arizonaCameraLab/computationalImaging/blob/master/Chapter2ForwardModels/particleInABox.ipynb\" target=\"_parent\"><img src=\"https://colab.research.google.com/assets/colab-badge.svg\" alt=\"Open In Colab\"/></a>"
      ]
    },
    {
      "cell_type": "markdown",
      "source": [
        "# Particle in  a box wavefunctions\n",
        "## David Brady\n",
        "## University of Arizona"
      ],
      "metadata": {
        "id": "5XyBG0uDMXNF"
      }
    },
    {
      "cell_type": "code",
      "execution_count": 8,
      "metadata": {
        "id": "4N47f925IBqt"
      },
      "outputs": [],
      "source": [
        "import matplotlib.pyplot as plt\n",
        "import numpy as np\n",
        "\n",
        "# Create the figure and axes\n",
        "fig, ax = plt.subplots()\n",
        "\n",
        "# Define the domain for x\n",
        "x = np.linspace(0, 2, 400)\n",
        "\n",
        "# Plot the box\n",
        "ax.plot([0, 0, 2, 2], [0, 4, 4, 0], 'k-')\n",
        "\n",
        "# Plot the functions\n",
        "for n in range(1, 5):\n",
        "    y = (n - 1) + 0.5 * np.sin(n * x / 2 * np.pi)\n",
        "    ax.plot(x, y)\n",
        "\n",
        "# Add labels and text\n",
        "ax.set_xticks([0, 2])\n",
        "ax.set_xticklabels([r'$x=-\\frac{L}{2}$', r'$x=\\frac{L}{2}$'])\n",
        "ax.set_yticks([])\n",
        "ax.tick_params(axis='x', pad=10)\n",
        "\n",
        "\n",
        "ax.text(2.3, 0.3, 'n=1')\n",
        "ax.text(2.3, 1.3, 'n=2')\n",
        "ax.text(2.3, 2.3, 'n=3')\n",
        "ax.text(2.3, 3.3, 'n=4')\n",
        "\n",
        "# Set aspect ratio and limits\n",
        "ax.set_aspect('equal', adjustable='box')\n",
        "ax.set_xlim(-0.5, 2.8)\n",
        "ax.set_ylim(-0.5, 4.5)\n",
        "\n",
        "# Add caption as title\n",
        "#plt.title('Field amplitudes of ``particle in a box\\'\\' modes.\\nThe amplitudes are shifted vertically for clarity of illustration.')\n",
        "\n",
        "# Remove the top and right spines\n",
        "ax.spines['top'].set_visible(False)\n",
        "ax.spines['right'].set_visible(False)\n",
        "ax.spines['left'].set_visible(False)\n",
        "plt.tight_layout()\n",
        "\n",
        "# Save the figure\n",
        "plt.savefig('particle_in_a_box.png')\n",
        "#plt.show()\n",
        "plt.close()"
      ]
    },
    {
      "cell_type": "code",
      "source": [],
      "metadata": {
        "id": "qCP6dkL8Isef"
      },
      "execution_count": null,
      "outputs": []
    }
  ]
}