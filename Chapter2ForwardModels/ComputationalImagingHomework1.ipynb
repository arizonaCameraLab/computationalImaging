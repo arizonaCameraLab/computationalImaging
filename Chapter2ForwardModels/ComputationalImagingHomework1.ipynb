{
  "nbformat": 4,
  "nbformat_minor": 0,
  "metadata": {
    "kernelspec": {
      "display_name": "Python 3",
      "language": "python",
      "name": "python3"
    },
    "language_info": {
      "codemirror_mode": {
        "name": "ipython",
        "version": 3
      },
      "file_extension": ".py",
      "mimetype": "text/x-python",
      "name": "python",
      "nbconvert_exporter": "python",
      "pygments_lexer": "ipython3",
      "version": "3.7.11"
    },
    "colab": {
      "name": "ComputationalImagingHomework1.ipynb",
      "provenance": [],
      "collapsed_sections": [],
      "include_colab_link": true
    }
  },
  "cells": [
    {
      "cell_type": "markdown",
      "metadata": {
        "id": "view-in-github",
        "colab_type": "text"
      },
      "source": [
        "<a href=\"https://colab.research.google.com/github/djbradyAtOpticalSciencesArizona/computationalImaging/blob/master/forwardModels/ComputationalImagingHomework1.ipynb\" target=\"_parent\"><img src=\"https://colab.research.google.com/assets/colab-badge.svg\" alt=\"Open In Colab\"/></a>"
      ]
    },
    {
      "cell_type": "markdown",
      "metadata": {
        "id": "7JQZbcZQOeFH"
      },
      "source": [
        "# Computational Imaging\n",
        "### David J. Brady\n",
        "### University of Arizona\n",
        "\n",
        "### Homework 1\n"
      ]
    },
    {
      "cell_type": "markdown",
      "metadata": {
        "id": "whh6DjELOr-Y"
      },
      "source": [
        "Thank you for taking OPTI 556 Computational imaging. The course makes extensive use of jupyter notebooks and python due to the fact that these resources are freely available and they are tightly integrated with data science and deep learining tools. You are required to submit your homework inthe form of interactive python notebooks executable in the Google colab interface. Any libraries that you use should be available online or submitted with your work, we need to be able to run and test your code. \n",
        "\n",
        "As seen in this paragraph, ipynb have a cellular structure with multilayers, table of contents and, especially important, text cells. Homework for this course is expansive, not reductive. You should think of the assignment as a jazz riff on which you need to improvise. Try many things, explore the data and write about what you see. Be as descriptive as possible, write every observation down.\n",
        "\n",
        "Notebooks use their own markdown languages for \n",
        "###titles and subtitles\n",
        "\n",
        "\n",
        "1.   lists\n",
        "2.   of lists\n",
        "\n",
        "They also can incorporate links and code. Of particular importance, they support use of Latex for equations, so you can write things like: Even though\n",
        "$$\n",
        "g(y)=\\int h(x,y)f(x) dx\n",
        "$$\n",
        "is a continuous transformation if we are clever we can express it discretely as\n",
        "$$\n",
        "\\mathbf{g}=\\mathbf{Hf}\n",
        "$$\n",
        "If you are not familiar with Latex you may wish to become more familiar. Similarly, you may wish to take advantage of online tutorials regarding python, numpy, scipy, keras, pytorch, tensorflow and other useful tools. \n",
        "\n"
      ]
    },
    {
      "cell_type": "markdown",
      "metadata": {
        "id": "LeZV4GMViddg"
      },
      "source": [
        "Your assignment for this week is to create notebook combining the various notebooks used to create figures in chapter 2 of our text. Figure 2.4 shows fourier series estimation of a signal. Repeat this analysis for 4 different signals of your own choosing. What effects do you see? Do you see Gibbs phenomena? \n",
        "\n",
        "Table 2.1 discusses the relationship between the discrete Fourier tranform and continous signals. Try taking the DFT for various signals with various sampling periods, as shown in figures 2.10 and 2.11. Interpolate your signals using Shannon interpolation. What if you interpolate with linear or cubic spline interpolators instead? \n",
        "\n",
        "Look at and analyze the discrete wavelet tranformation for various images drawn from your phone, as in figures 2.16 and 2.17. Learn how to manipulate images in python. Try rotating by 35 degrees. How does rotation affect the wavelet transform? Try comparing the wavelet transform for different color planes of an RGB image. \n",
        "\n",
        "Try varying the sample parameters (pixel pitch and pixel width) for various signals as in figures 2.18 through 2.21. Discuss the impact of aliasing and low pass filtering on your signals. \n",
        "\n",
        "Finally, figures 2.22 through 2.28 consider the singular value spectra for various forward models. Try to replicate these figures for similar, different, values of $\\mathbf{H}$. Explain what you see in the figures.\n",
        "\n",
        "Good luck and have fun!\n"
      ]
    },
    {
      "cell_type": "markdown",
      "metadata": {
        "id": "mprGgSlwQwYr"
      },
      "source": [
        "## Libraries"
      ]
    },
    {
      "cell_type": "code",
      "metadata": {
        "id": "0vm9S61cOWn2"
      },
      "source": [
        "%matplotlib inline\n",
        "import numpy as np\n",
        "import matplotlib.pyplot as plt\n",
        "from scipy.signal import convolve2d, convolve\n",
        "from skimage import color, data, restoration, exposure\n",
        "from skimage import io\n",
        "from google.colab import files\n",
        "plt.rcParams['figure.figsize'] = [20, 10]\n",
        "plt.rcParams.update({'font.size': 16})"
      ],
      "execution_count": null,
      "outputs": []
    }
  ]
}