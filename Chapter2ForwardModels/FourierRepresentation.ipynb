{
  "nbformat": 4,
  "nbformat_minor": 0,
  "metadata": {
    "colab": {
      "name": "FourierRepresentation.ipynb",
      "provenance": [],
      "collapsed_sections": [],
      "authorship_tag": "ABX9TyMODQjwF/8o9AvHn65PBfiX",
      "include_colab_link": true
    },
    "kernelspec": {
      "name": "python3",
      "display_name": "Python 3"
    },
    "widgets": {
      "application/vnd.jupyter.widget-state+json": {
        "3da8640b3c1d42caa503ba4788e70b82": {
          "model_module": "@jupyter-widgets/controls",
          "model_name": "FloatSliderModel",
          "state": {
            "_view_name": "FloatSliderView",
            "style": "IPY_MODEL_83ffe678b1d8430cab7c968f568cb4ee",
            "_dom_classes": [],
            "description": "x value",
            "step": 0.05,
            "_model_name": "FloatSliderModel",
            "orientation": "horizontal",
            "max": 0.5,
            "_view_module": "@jupyter-widgets/controls",
            "_model_module_version": "1.5.0",
            "value": 0.3,
            "_view_count": null,
            "disabled": false,
            "_view_module_version": "1.5.0",
            "min": -0.5,
            "continuous_update": false,
            "readout_format": ".2f",
            "description_tooltip": null,
            "readout": true,
            "_model_module": "@jupyter-widgets/controls",
            "layout": "IPY_MODEL_c1a47eb7a22345348c271abb31b09bd4"
          }
        },
        "83ffe678b1d8430cab7c968f568cb4ee": {
          "model_module": "@jupyter-widgets/controls",
          "model_name": "SliderStyleModel",
          "state": {
            "_view_name": "StyleView",
            "handle_color": null,
            "_model_name": "SliderStyleModel",
            "description_width": "",
            "_view_module": "@jupyter-widgets/base",
            "_model_module_version": "1.5.0",
            "_view_count": null,
            "_view_module_version": "1.2.0",
            "_model_module": "@jupyter-widgets/controls"
          }
        },
        "c1a47eb7a22345348c271abb31b09bd4": {
          "model_module": "@jupyter-widgets/base",
          "model_name": "LayoutModel",
          "state": {
            "_view_name": "LayoutView",
            "grid_template_rows": null,
            "right": null,
            "justify_content": null,
            "_view_module": "@jupyter-widgets/base",
            "overflow": null,
            "_model_module_version": "1.2.0",
            "_view_count": null,
            "flex_flow": null,
            "width": null,
            "min_width": null,
            "border": null,
            "align_items": null,
            "bottom": null,
            "_model_module": "@jupyter-widgets/base",
            "top": null,
            "grid_column": null,
            "overflow_y": null,
            "overflow_x": null,
            "grid_auto_flow": null,
            "grid_area": null,
            "grid_template_columns": null,
            "flex": null,
            "_model_name": "LayoutModel",
            "justify_items": null,
            "grid_row": null,
            "max_height": null,
            "align_content": null,
            "visibility": null,
            "align_self": null,
            "height": null,
            "min_height": null,
            "padding": null,
            "grid_auto_rows": null,
            "grid_gap": null,
            "max_width": null,
            "order": null,
            "_view_module_version": "1.2.0",
            "grid_template_areas": null,
            "object_position": null,
            "object_fit": null,
            "grid_auto_columns": null,
            "margin": null,
            "display": null,
            "left": null
          }
        },
        "95ddfcf181b144aebd288f862a6e1dca": {
          "model_module": "@jupyter-widgets/controls",
          "model_name": "FloatSliderModel",
          "state": {
            "_view_name": "FloatSliderView",
            "style": "IPY_MODEL_e23e5b16d91f4524bfabaae608d092e6",
            "_dom_classes": [],
            "description": "y value",
            "step": 0.05,
            "_model_name": "FloatSliderModel",
            "orientation": "vertical",
            "max": 5,
            "_view_module": "@jupyter-widgets/controls",
            "_model_module_version": "1.5.0",
            "value": 3.8,
            "_view_count": null,
            "disabled": false,
            "_view_module_version": "1.5.0",
            "min": -5,
            "continuous_update": false,
            "readout_format": ".2f",
            "description_tooltip": null,
            "readout": true,
            "_model_module": "@jupyter-widgets/controls",
            "layout": "IPY_MODEL_f48635e816fc433fa8a168857d374715"
          }
        },
        "e23e5b16d91f4524bfabaae608d092e6": {
          "model_module": "@jupyter-widgets/controls",
          "model_name": "SliderStyleModel",
          "state": {
            "_view_name": "StyleView",
            "handle_color": null,
            "_model_name": "SliderStyleModel",
            "description_width": "",
            "_view_module": "@jupyter-widgets/base",
            "_model_module_version": "1.5.0",
            "_view_count": null,
            "_view_module_version": "1.2.0",
            "_model_module": "@jupyter-widgets/controls"
          }
        },
        "f48635e816fc433fa8a168857d374715": {
          "model_module": "@jupyter-widgets/base",
          "model_name": "LayoutModel",
          "state": {
            "_view_name": "LayoutView",
            "grid_template_rows": null,
            "right": null,
            "justify_content": null,
            "_view_module": "@jupyter-widgets/base",
            "overflow": null,
            "_model_module_version": "1.2.0",
            "_view_count": null,
            "flex_flow": null,
            "width": null,
            "min_width": null,
            "border": null,
            "align_items": null,
            "bottom": null,
            "_model_module": "@jupyter-widgets/base",
            "top": null,
            "grid_column": null,
            "overflow_y": null,
            "overflow_x": null,
            "grid_auto_flow": null,
            "grid_area": null,
            "grid_template_columns": null,
            "flex": null,
            "_model_name": "LayoutModel",
            "justify_items": null,
            "grid_row": null,
            "max_height": null,
            "align_content": null,
            "visibility": null,
            "align_self": null,
            "height": null,
            "min_height": null,
            "padding": null,
            "grid_auto_rows": null,
            "grid_gap": null,
            "max_width": null,
            "order": null,
            "_view_module_version": "1.2.0",
            "grid_template_areas": null,
            "object_position": null,
            "object_fit": null,
            "grid_auto_columns": null,
            "margin": null,
            "display": null,
            "left": null
          }
        },
        "25f40ed3453147ec9254faf6cb976991": {
          "model_module": "@jupyter-widgets/controls",
          "model_name": "BoundedIntTextModel",
          "state": {
            "_view_name": "IntTextView",
            "style": "IPY_MODEL_9e41fd0580534af682f2fe85a1b6ac36",
            "_dom_classes": [],
            "description": "Coefficients:",
            "_model_name": "BoundedIntTextModel",
            "max": 100,
            "_view_module": "@jupyter-widgets/controls",
            "_model_module_version": "1.5.0",
            "value": 20,
            "_view_count": null,
            "disabled": false,
            "_view_module_version": "1.5.0",
            "min": 1,
            "continuous_update": false,
            "step": 1,
            "description_tooltip": null,
            "_model_module": "@jupyter-widgets/controls",
            "layout": "IPY_MODEL_3c9df63d954d44ef8a546c3ff791d7d2"
          }
        },
        "9e41fd0580534af682f2fe85a1b6ac36": {
          "model_module": "@jupyter-widgets/controls",
          "model_name": "DescriptionStyleModel",
          "state": {
            "_view_name": "StyleView",
            "_model_name": "DescriptionStyleModel",
            "description_width": "",
            "_view_module": "@jupyter-widgets/base",
            "_model_module_version": "1.5.0",
            "_view_count": null,
            "_view_module_version": "1.2.0",
            "_model_module": "@jupyter-widgets/controls"
          }
        },
        "3c9df63d954d44ef8a546c3ff791d7d2": {
          "model_module": "@jupyter-widgets/base",
          "model_name": "LayoutModel",
          "state": {
            "_view_name": "LayoutView",
            "grid_template_rows": null,
            "right": null,
            "justify_content": null,
            "_view_module": "@jupyter-widgets/base",
            "overflow": null,
            "_model_module_version": "1.2.0",
            "_view_count": null,
            "flex_flow": null,
            "width": null,
            "min_width": null,
            "border": null,
            "align_items": null,
            "bottom": null,
            "_model_module": "@jupyter-widgets/base",
            "top": null,
            "grid_column": null,
            "overflow_y": null,
            "overflow_x": null,
            "grid_auto_flow": null,
            "grid_area": null,
            "grid_template_columns": null,
            "flex": null,
            "_model_name": "LayoutModel",
            "justify_items": null,
            "grid_row": null,
            "max_height": null,
            "align_content": null,
            "visibility": null,
            "align_self": null,
            "height": null,
            "min_height": null,
            "padding": null,
            "grid_auto_rows": null,
            "grid_gap": null,
            "max_width": null,
            "order": null,
            "_view_module_version": "1.2.0",
            "grid_template_areas": null,
            "object_position": null,
            "object_fit": null,
            "grid_auto_columns": null,
            "margin": null,
            "display": null,
            "left": null
          }
        }
      }
    }
  },
  "cells": [
    {
      "cell_type": "markdown",
      "metadata": {
        "id": "view-in-github",
        "colab_type": "text"
      },
      "source": [
        "<a href=\"https://colab.research.google.com/github/djbrady/computationalImaging/blob/master/FourierRepresentation.ipynb\" target=\"_parent\"><img src=\"https://colab.research.google.com/assets/colab-badge.svg\" alt=\"Open In Colab\"/></a>"
      ]
    },
    {
      "cell_type": "markdown",
      "metadata": {
        "id": "ls14GQEghfmx",
        "colab_type": "text"
      },
      "source": [
        "# Computational Imaging\n",
        "### David J. Brady\n",
        "### University of Arizona\n",
        "\n",
        "## Fourier Representation of a Signal with Compact Support"
      ]
    },
    {
      "cell_type": "markdown",
      "metadata": {
        "id": "Gse4p0Zth6A-",
        "colab_type": "text"
      },
      "source": [
        "This notebook supports ideas developed in Chapter 2 of *Computational Imaging*. Specifically we consider the use of Fourier series to represent the signal $f(x)$ on the interval $\\left [ -{L\\over 2},{L\\over 2}\\right ]$. "
      ]
    },
    {
      "cell_type": "markdown",
      "metadata": {
        "id": "JjcAtl-vBWu8",
        "colab_type": "text"
      },
      "source": [
        "#### initialization code"
      ]
    },
    {
      "cell_type": "code",
      "metadata": {
        "id": "HJZ24k31G19V",
        "colab_type": "code",
        "colab": {}
      },
      "source": [
        "from __future__ import print_function\n",
        "from ipywidgets import interact, interactive, fixed, interact_manual\n",
        "from IPython.display import display, clear_output\n",
        "import ipywidgets as widgets\n",
        "import numpy as np\n",
        "import matplotlib as mpl\n",
        "import matplotlib.pyplot as plt\n",
        "import scipy.integrate as integrate\n",
        "%matplotlib inline"
      ],
      "execution_count": 1,
      "outputs": []
    },
    {
      "cell_type": "markdown",
      "metadata": {
        "id": "tqVTMnBWDgG1",
        "colab_type": "text"
      },
      "source": [
        "## Series representation of $f(x)$"
      ]
    },
    {
      "cell_type": "markdown",
      "metadata": {
        "id": "oNKQvMi_DnVf",
        "colab_type": "text"
      },
      "source": [
        "Here we use a polynomial fit to  specify a function on the range $\\left [ -{1\\over 2},{1\\over 2}\\right ]$. Use the sliders to set values of $(x,y)$, the plots update each time an new $y$ value is added. Change the number of Fourier series terms used to to see how the series converges. The array of $\\cos$ and $\\sin$ coefficients is also shown. "
      ]
    },
    {
      "cell_type": "code",
      "metadata": {
        "id": "lp0a1ZT8JuSy",
        "colab_type": "code",
        "colab": {
          "base_uri": "https://localhost:8080/",
          "height": 570,
          "referenced_widgets": [
            "3da8640b3c1d42caa503ba4788e70b82",
            "83ffe678b1d8430cab7c968f568cb4ee",
            "c1a47eb7a22345348c271abb31b09bd4",
            "95ddfcf181b144aebd288f862a6e1dca",
            "e23e5b16d91f4524bfabaae608d092e6",
            "f48635e816fc433fa8a168857d374715",
            "25f40ed3453147ec9254faf6cb976991",
            "9e41fd0580534af682f2fe85a1b6ac36",
            "3c9df63d954d44ef8a546c3ff791d7d2"
          ]
        },
        "outputId": "6e1fdf3a-07bc-4665-b0a8-d46609cb961b"
      },
      "source": [
        "points=np.zeros(21)\n",
        "xvals=np.linspace(-.5,.5,21)\n",
        "\n",
        "fig = plt.figure()\n",
        "plt.plot(xvals,points,'r')\n",
        "\n",
        "def on_value_change(change):\n",
        "        points[np.int8(20*(x.value+0.5))]=y.value;\n",
        "        z = np.polyfit(xvals, points, 10)\n",
        "        p = np.poly1d(z)\n",
        "        sv=np.zeros(nfc.value)\n",
        "        cv=np.zeros(nfc.value)\n",
        "        for pop in np.arange(nfc.value):\n",
        "          sv[pop]=2*integrate.quad(lambda x: p(x)*np.sin(2*np.pi*pop*x), -.5, .5)[0]\n",
        "          cv[pop]=2*integrate.quad(lambda x: p(x)*np.cos(2*np.pi*pop*x), -.5, .5)[0]\n",
        "        cv[0]=cv[0]/2\n",
        "        def px(x,sv,cv):\n",
        "          pxx=0;\n",
        "          for pop in np.arange(len(sv)):\n",
        "            pxx=pxx+sv[pop]*np.sin(2*np.pi*pop*x)+cv[pop]*np.cos(2*np.pi*pop*x)\n",
        "          return pxx\n",
        "        clear_output(wait=True)\n",
        "        plt.subplot(2, 1, 1)\n",
        "        plt.tight_layout(pad=3)\n",
        "        plt.plot(np.linspace(-.5,.5,100),p(np.linspace(-.5,.5,100)),'r',np.linspace(-.5,.5,100),px(np.linspace(-.5,.5,100),sv,cv),'b')\n",
        "        plt.ylim(-5, 5) \n",
        "        plt.title('test function (red) and Fourier series (blue)')\n",
        "        plt.subplot(2, 1, 2)\n",
        "        plt.plot(np.arange(nfc.value),cv,'r',np.arange(nfc.value),sv,'b') \n",
        "        plt.title('cosine (red) and sine (blue) coefficients')\n",
        "        plt.show()\n",
        "        display('Adjust curve, enter number of Fourier Coefficients.', x,y, nfc)\n",
        "        y.observe(on_value_change, names='value')\n",
        "        return\n",
        "x=widgets.FloatSlider(\n",
        "    value=0,\n",
        "    min=-.5,\n",
        "    max=.5,\n",
        "    step=0.05,\n",
        "    description='x value',\n",
        "    disabled=False,\n",
        "    continuous_update=False,\n",
        "    orientation='horizontal',\n",
        "    readout=True,\n",
        ")\n",
        "y=widgets.FloatSlider(\n",
        "    value=0,\n",
        "    min=-5.,\n",
        "    max=5.,\n",
        "    step=0.05,\n",
        "    description='y value',\n",
        "    disabled=False,\n",
        "    continuous_update=False,\n",
        "    orientation='vertical',\n",
        "    readout=True,\n",
        ")\n",
        "nfc=widgets.BoundedIntText(\n",
        "    value=5,\n",
        "    min=1,\n",
        "    max=100,\n",
        "    step=1,\n",
        "    description='Coefficients:',\n",
        "    disabled=False\n",
        ")\n",
        "display('Adjust curve.', x,y)\n",
        "y.observe(on_value_change, names='value')\n"
      ],
      "execution_count": 82,
      "outputs": [
        {
          "output_type": "display_data",
          "data": {
            "image/png": "[encoded data removed]",
            "text/plain": [
              "<Figure size 432x288 with 2 Axes>"
            ]
          },
          "metadata": {
            "tags": [],
            "needs_background": "light"
          }
        },
        {
          "output_type": "display_data",
          "data": {
            "application/vnd.google.colaboratory.intrinsic+json": {
              "type": "string"
            },
            "text/plain": [
              "'Adjust curve, enter number of Fourier Coefficients.'"
            ]
          },
          "metadata": {
            "tags": []
          }
        },
        {
          "output_type": "display_data",
          "data": {
            "application/vnd.jupyter.widget-view+json": {
              "model_id": "3da8640b3c1d42caa503ba4788e70b82",
              "version_minor": 0,
              "version_major": 2
            },
            "text/plain": [
              "FloatSlider(value=0.3, continuous_update=False, description='x value', max=0.5, min=-0.5, step=0.05)"
            ]
          },
          "metadata": {
            "tags": []
          }
        },
        {
          "output_type": "display_data",
          "data": {
            "application/vnd.jupyter.widget-view+json": {
              "model_id": "95ddfcf181b144aebd288f862a6e1dca",
              "version_minor": 0,
              "version_major": 2
            },
            "text/plain": [
              "FloatSlider(value=3.8, continuous_update=False, description='y value', max=5.0, min=-5.0, orientation='vertica…"
            ]
          },
          "metadata": {
            "tags": []
          }
        },
        {
          "output_type": "display_data",
          "data": {
            "application/vnd.jupyter.widget-view+json": {
              "model_id": "25f40ed3453147ec9254faf6cb976991",
              "version_minor": 0,
              "version_major": 2
            },
            "text/plain": [
              "BoundedIntText(value=20, description='Coefficients:', min=1)"
            ]
          },
          "metadata": {
            "tags": []
          }
        }
      ]
    },
    {
      "cell_type": "markdown",
      "metadata": {
        "id": "JQMBIIWWbq94",
        "colab_type": "text"
      },
      "source": [
        "## Example of $f(x)$"
      ]
    },
    {
      "cell_type": "markdown",
      "metadata": {
        "id": "bmLhIQ09btrJ",
        "colab_type": "text"
      },
      "source": [
        "As a particular example, consider\n",
        "$$\n",
        "f(x)=\\left \\lbrace {\n",
        "    \\begin{aligned}\n",
        "        0 &\\text{ for } -.5<x \\leq -.25\\\\\n",
        "        4*(x+.25)&\\text{ for }  -.25<x \\leq 0\\\\\n",
        "        1 &\\text{ for } 0<x\\leq .25\\\\\n",
        "        0 &\\text{ for } .25<x\n",
        "    \\end{aligned}}\\right.\n",
        "    $$"
      ]
    },
    {
      "cell_type": "code",
      "metadata": {
        "id": "3nNy-GeQWMcI",
        "colab_type": "code",
        "colab": {}
      },
      "source": [
        "def f(x):\n",
        "  if x<-.25:\n",
        "    f=0.\n",
        "  elif x<0:\n",
        "    f=4.*(x+.25)\n",
        "  elif x<.25:\n",
        "    f=1.\n",
        "  else:\n",
        "    f=0.\n",
        "  return f\n"
      ],
      "execution_count": 2,
      "outputs": []
    },
    {
      "cell_type": "code",
      "metadata": {
        "id": "GGk2GBrTeIYO",
        "colab_type": "code",
        "colab": {
          "base_uri": "https://localhost:8080/",
          "height": 281
        },
        "outputId": "4997167e-8b5c-4683-de9c-6aa27c844df6"
      },
      "source": [
        "from numpy import vectorize\n",
        "vf = vectorize(f)\n",
        "plt.plot(np.linspace(-.5,.5,100),vf(np.linspace(-.5,.5,100)),'r')\n",
        "plt.title(\"Example Function\")\n",
        "plt.savefig('exampleFS.png')"
      ],
      "execution_count": 60,
      "outputs": [
        {
          "output_type": "display_data",
          "data": {
            "image/png": "[encoded data removed]",
            "text/plain": [
              "<Figure size 432x288 with 1 Axes>"
            ]
          },
          "metadata": {
            "tags": [],
            "needs_background": "light"
          }
        }
      ]
    },
    {
      "cell_type": "code",
      "metadata": {
        "id": "DixjganUeYqE",
        "colab_type": "code",
        "colab": {
          "base_uri": "https://localhost:8080/",
          "height": 331
        },
        "outputId": "d601743d-116f-446a-d38c-135f70ab0741"
      },
      "source": [
        "pt=0;\n",
        "plt.subplots(figsize=(10,5))\n",
        "xrange=np.linspace(-.5,.5,100);\n",
        "for coeffs in [5, 10, 20, 40]:\n",
        "  pt=pt+1\n",
        "  sv=np.zeros(coeffs)\n",
        "  cv=np.zeros(coeffs)\n",
        "  for pop in np.arange(coeffs):\n",
        "    sv[pop]=2*integrate.quad(lambda x: vf(x)*np.sin(2*np.pi*pop*x), -.5, .5)[0]\n",
        "    cv[pop]=2*integrate.quad(lambda x: vf(x)*np.cos(2*np.pi*pop*x), -.5, .5)[0]\n",
        "    cv[0]=cv[0]\n",
        "    def px(x,sv,cv):\n",
        "      pxx=0;\n",
        "      for pop in np.arange(len(sv)):\n",
        "        pxx=pxx+sv[pop]*np.sin(2*np.pi*pop*x)+cv[pop]*np.cos(2*np.pi*pop*x)\n",
        "      return pxx\n",
        "  plt.subplot(2, 2, pt) \n",
        "  plt.plot(xrange,vf(xrange),'r',xrange,px(xrange,sv,cv)-cv[0]/2.,'b')\n",
        "  plt.ylim(-.5, 1.5) \n",
        "  plt.title(\"Estimation with  %i Fourier terms\" %(pop+1))\n",
        "  plt.tight_layout(pad=3)\n",
        "  plt.savefig('exampleFSexpansion.png')"
      ],
      "execution_count": 61,
      "outputs": [
        {
          "output_type": "display_data",
          "data": {
            "image/png": "[encoded data removed]",
            "text/plain": [
              "<Figure size 720x360 with 4 Axes>"
            ]
          },
          "metadata": {
            "tags": [],
            "needs_background": "light"
          }
        }
      ]
    },
    {
      "cell_type": "code",
      "metadata": {
        "id": "ckFuDTCSDgOw",
        "colab_type": "code",
        "colab": {
          "base_uri": "https://localhost:8080/",
          "height": 35
        },
        "outputId": "e811fd72-c7e1-4b1a-c37d-15a643e7060e"
      },
      "source": [
        "ls\n"
      ],
      "execution_count": 62,
      "outputs": [
        {
          "output_type": "stream",
          "text": [
            "exampleFSexpansion.png  exampleFS.png  \u001b[0m\u001b[01;34msample_data\u001b[0m/\n"
          ],
          "name": "stdout"
        }
      ]
    },
    {
      "cell_type": "code",
      "metadata": {
        "id": "9-vhVW8TSuzw",
        "colab_type": "code",
        "colab": {
          "base_uri": "https://localhost:8080/",
          "height": 17
        },
        "outputId": "0ee50ccf-6a6e-4eb9-96d0-2acd6478e0d7"
      },
      "source": [
        "from google.colab import files\n",
        "files.download('exampleFS.png') \n"
      ],
      "execution_count": 63,
      "outputs": [
        {
          "output_type": "display_data",
          "data": {
            "application/javascript": [
              "\n",
              "    async function download(id, filename, size) {\n",
              "      if (!google.colab.kernel.accessAllowed) {\n",
              "        return;\n",
              "      }\n",
              "      const div = document.createElement('div');\n",
              "      const label = document.createElement('label');\n",
              "      label.textContent = `Downloading \"${filename}\": `;\n",
              "      div.appendChild(label);\n",
              "      const progress = document.createElement('progress');\n",
              "      progress.max = size;\n",
              "      div.appendChild(progress);\n",
              "      document.body.appendChild(div);\n",
              "\n",
              "      const buffers = [];\n",
              "      let downloaded = 0;\n",
              "\n",
              "      const channel = await google.colab.kernel.comms.open(id);\n",
              "      // Send a message to notify the kernel that we're ready.\n",
              "      channel.send({})\n",
              "\n",
              "      for await (const message of channel.messages) {\n",
              "        // Send a message to notify the kernel that we're ready.\n",
              "        channel.send({})\n",
              "        if (message.buffers) {\n",
              "          for (const buffer of message.buffers) {\n",
              "            buffers.push(buffer);\n",
              "            downloaded += buffer.byteLength;\n",
              "            progress.value = downloaded;\n",
              "          }\n",
              "        }\n",
              "      }\n",
              "      const blob = new Blob(buffers, {type: 'application/binary'});\n",
              "      const a = document.createElement('a');\n",
              "      a.href = window.URL.createObjectURL(blob);\n",
              "      a.download = filename;\n",
              "      div.appendChild(a);\n",
              "      a.click();\n",
              "      div.remove();\n",
              "    }\n",
              "  "
            ],
            "text/plain": [
              "<IPython.core.display.Javascript object>"
            ]
          },
          "metadata": {
            "tags": []
          }
        },
        {
          "output_type": "display_data",
          "data": {
            "application/javascript": [
              "download(\"download_fa660e89-7e9c-4761-a5ca-7e6abc974bdf\", \"exampleFS.png\", 9171)"
            ],
            "text/plain": [
              "<IPython.core.display.Javascript object>"
            ]
          },
          "metadata": {
            "tags": []
          }
        },
        {
          "output_type": "display_data",
          "data": {
            "application/javascript": [
              "\n",
              "    async function download(id, filename, size) {\n",
              "      if (!google.colab.kernel.accessAllowed) {\n",
              "        return;\n",
              "      }\n",
              "      const div = document.createElement('div');\n",
              "      const label = document.createElement('label');\n",
              "      label.textContent = `Downloading \"${filename}\": `;\n",
              "      div.appendChild(label);\n",
              "      const progress = document.createElement('progress');\n",
              "      progress.max = size;\n",
              "      div.appendChild(progress);\n",
              "      document.body.appendChild(div);\n",
              "\n",
              "      const buffers = [];\n",
              "      let downloaded = 0;\n",
              "\n",
              "      const channel = await google.colab.kernel.comms.open(id);\n",
              "      // Send a message to notify the kernel that we're ready.\n",
              "      channel.send({})\n",
              "\n",
              "      for await (const message of channel.messages) {\n",
              "        // Send a message to notify the kernel that we're ready.\n",
              "        channel.send({})\n",
              "        if (message.buffers) {\n",
              "          for (const buffer of message.buffers) {\n",
              "            buffers.push(buffer);\n",
              "            downloaded += buffer.byteLength;\n",
              "            progress.value = downloaded;\n",
              "          }\n",
              "        }\n",
              "      }\n",
              "      const blob = new Blob(buffers, {type: 'application/binary'});\n",
              "      const a = document.createElement('a');\n",
              "      a.href = window.URL.createObjectURL(blob);\n",
              "      a.download = filename;\n",
              "      div.appendChild(a);\n",
              "      a.click();\n",
              "      div.remove();\n",
              "    }\n",
              "  "
            ],
            "text/plain": [
              "<IPython.core.display.Javascript object>"
            ]
          },
          "metadata": {
            "tags": []
          }
        },
        {
          "output_type": "display_data",
          "data": {
            "application/javascript": [
              "download(\"download_a800399a-5355-4be2-a04c-69a422683f63\", \"exampleFSexpansion.png\", 31138)"
            ],
            "text/plain": [
              "<IPython.core.display.Javascript object>"
            ]
          },
          "metadata": {
            "tags": []
          }
        }
      ]
    },
    {
      "cell_type": "code",
      "metadata": {
        "id": "09KesoO_S-Tp",
        "colab_type": "code",
        "colab": {
          "base_uri": "https://localhost:8080/",
          "height": 17
        },
        "outputId": "37f55679-93f4-46fa-fa64-442b51535809"
      },
      "source": [
        "files.download('exampleFSexpansion.png') "
      ],
      "execution_count": 65,
      "outputs": [
        {
          "output_type": "display_data",
          "data": {
            "application/javascript": [
              "\n",
              "    async function download(id, filename, size) {\n",
              "      if (!google.colab.kernel.accessAllowed) {\n",
              "        return;\n",
              "      }\n",
              "      const div = document.createElement('div');\n",
              "      const label = document.createElement('label');\n",
              "      label.textContent = `Downloading \"${filename}\": `;\n",
              "      div.appendChild(label);\n",
              "      const progress = document.createElement('progress');\n",
              "      progress.max = size;\n",
              "      div.appendChild(progress);\n",
              "      document.body.appendChild(div);\n",
              "\n",
              "      const buffers = [];\n",
              "      let downloaded = 0;\n",
              "\n",
              "      const channel = await google.colab.kernel.comms.open(id);\n",
              "      // Send a message to notify the kernel that we're ready.\n",
              "      channel.send({})\n",
              "\n",
              "      for await (const message of channel.messages) {\n",
              "        // Send a message to notify the kernel that we're ready.\n",
              "        channel.send({})\n",
              "        if (message.buffers) {\n",
              "          for (const buffer of message.buffers) {\n",
              "            buffers.push(buffer);\n",
              "            downloaded += buffer.byteLength;\n",
              "            progress.value = downloaded;\n",
              "          }\n",
              "        }\n",
              "      }\n",
              "      const blob = new Blob(buffers, {type: 'application/binary'});\n",
              "      const a = document.createElement('a');\n",
              "      a.href = window.URL.createObjectURL(blob);\n",
              "      a.download = filename;\n",
              "      div.appendChild(a);\n",
              "      a.click();\n",
              "      div.remove();\n",
              "    }\n",
              "  "
            ],
            "text/plain": [
              "<IPython.core.display.Javascript object>"
            ]
          },
          "metadata": {
            "tags": []
          }
        },
        {
          "output_type": "display_data",
          "data": {
            "application/javascript": [
              "download(\"download_84ae5223-a5e4-44a2-b799-0b43ab226724\", \"exampleFSexpansion.png\", 31138)"
            ],
            "text/plain": [
              "<IPython.core.display.Javascript object>"
            ]
          },
          "metadata": {
            "tags": []
          }
        }
      ]
    },
    {
      "cell_type": "code",
      "metadata": {
        "id": "c2wuqwPqTF7T",
        "colab_type": "code",
        "colab": {}
      },
      "source": [
        ""
      ],
      "execution_count": null,
      "outputs": []
    }
  ]
}
